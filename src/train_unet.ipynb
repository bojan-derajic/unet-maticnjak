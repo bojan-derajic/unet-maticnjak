{
 "cells": [
  {
   "cell_type": "code",
   "execution_count": 1,
   "metadata": {},
   "outputs": [],
   "source": [
    "import tensorflow as tf\n",
    "from tensorflow import keras\n",
    "from keras.preprocessing.image import ImageDataGenerator\n",
    "from keras import layers\n",
    "import cv2 as cv\n",
    "import numpy as np\n",
    "from numba import cuda\n",
    "from datetime import datetime\n",
    "\n",
    "from utils import process_raw_data, draw_segmentation_mask"
   ]
  },
  {
   "cell_type": "code",
   "execution_count": 2,
   "metadata": {},
   "outputs": [
    {
     "name": "stdout",
     "output_type": "stream",
     "text": [
      "[PhysicalDevice(name='/physical_device:GPU:0', device_type='GPU')]\n"
     ]
    }
   ],
   "source": [
    "# Check if a GPU device is available\n",
    "print(tf.config.list_physical_devices(\"GPU\"))"
   ]
  },
  {
   "cell_type": "code",
   "execution_count": 3,
   "metadata": {},
   "outputs": [],
   "source": [
    "IMG_WIDTH = 640\n",
    "IMG_HEIGHT = 480\n",
    "IMG_CHANNELS = 3\n",
    "\n",
    "num_classes = 3"
   ]
  },
  {
   "cell_type": "code",
   "execution_count": 4,
   "metadata": {},
   "outputs": [],
   "source": [
    "# Contracting path\n",
    "num_filters = 16\n",
    "dropout_rate = 0.05\n",
    "\n",
    "input = layers.Input((IMG_HEIGHT, IMG_WIDTH, IMG_CHANNELS))\n",
    "c1 = layers.Conv2D(num_filters, (3, 3), padding=\"same\", activation=\"relu\", kernel_initializer=\"he_normal\")(input)\n",
    "c1 = layers.Dropout(dropout_rate)(c1)\n",
    "c1 = layers.Conv2D(num_filters, (3, 3), padding=\"same\", activation=\"relu\", kernel_initializer=\"he_normal\")(c1)\n",
    "p1 = layers.MaxPool2D((2, 2), (2, 2))(c1)\n",
    "\n",
    "c2 = layers.Conv2D(2*num_filters, (3, 3), padding=\"same\", activation=\"relu\", kernel_initializer=\"he_normal\")(p1)\n",
    "c2 = layers.Dropout(dropout_rate)(c2)\n",
    "c2 = layers.Conv2D(2*num_filters, (3, 3), padding=\"same\", activation=\"relu\", kernel_initializer=\"he_normal\")(c2)\n",
    "p2 = layers.MaxPool2D((2, 2), (2, 2))(c2)\n",
    "\n",
    "c3 = layers.Conv2D(4*num_filters, (3, 3), padding=\"same\", activation=\"relu\", kernel_initializer=\"he_normal\")(p2)\n",
    "c3 = layers.Dropout(dropout_rate)(c3)\n",
    "c3 = layers.Conv2D(4*num_filters, (3, 3), padding=\"same\", activation=\"relu\", kernel_initializer=\"he_normal\")(c3)\n",
    "p3 = layers.MaxPool2D((2, 2), (2, 2))(c3)\n",
    "\n",
    "c4 = layers.Conv2D(8*num_filters, (3, 3), padding=\"same\", activation=\"relu\", kernel_initializer=\"he_normal\")(p3)\n",
    "c4 = layers.Dropout(dropout_rate)(c4)\n",
    "c4 = layers.Conv2D(8*num_filters, (3, 3), padding=\"same\", activation=\"relu\", kernel_initializer=\"he_normal\")(c4)\n",
    "p4 = layers.MaxPool2D((2, 2), (2, 2))(c4)\n",
    "\n",
    "c5 = layers.Conv2D(16*num_filters, (3, 3), padding=\"same\", activation=\"relu\", kernel_initializer=\"he_normal\")(p4)\n",
    "c5 = layers.Dropout(dropout_rate)(c5)\n",
    "c5 = layers.Conv2D(16*num_filters, (3, 3), padding=\"same\", activation=\"relu\", kernel_initializer=\"he_normal\")(c5)"
   ]
  },
  {
   "cell_type": "code",
   "execution_count": 5,
   "metadata": {},
   "outputs": [],
   "source": [
    "# Expanding path\n",
    "u6 = layers.Conv2DTranspose(8*num_filters, (2, 2), (2, 2), padding=\"same\")(c5)\n",
    "c6 = layers.Concatenate(axis=3)([c4, u6])\n",
    "c6 = layers.Conv2D(8*num_filters, (3, 3), padding=\"same\", activation=\"relu\", kernel_initializer=\"he_normal\")(c6)\n",
    "c6 = layers.Dropout(dropout_rate)(c6)\n",
    "c6 = layers.Conv2D(8*num_filters, (3, 3), padding=\"same\", activation=\"relu\", kernel_initializer=\"he_normal\")(c6)\n",
    "\n",
    "u7 = layers.Conv2DTranspose(4*num_filters, (2, 2), (2, 2), padding=\"same\")(c6)\n",
    "c7 = layers.Concatenate(axis=3)([c3, u7])\n",
    "c7 = layers.Conv2D(4*num_filters, (3, 3), padding=\"same\", activation=\"relu\", kernel_initializer=\"he_normal\")(c7)\n",
    "c7 = layers.Dropout(dropout_rate)(c7)\n",
    "c7 = layers.Conv2D(4*num_filters, (3, 3), padding=\"same\", activation=\"relu\", kernel_initializer=\"he_normal\")(c7)\n",
    "\n",
    "u8 = layers.Conv2DTranspose(2*num_filters, (2, 2), (2, 2), padding=\"same\")(c7)\n",
    "c8 = layers.Concatenate(axis=3)([c2, u8])\n",
    "c8 = layers.Conv2D(2*num_filters, (3, 3), padding=\"same\", activation=\"relu\", kernel_initializer=\"he_normal\")(c8)\n",
    "c8 = layers.Dropout(dropout_rate)(c8)\n",
    "c8 = layers.Conv2D(2*num_filters, (3, 3), padding=\"same\", activation=\"relu\", kernel_initializer=\"he_normal\")(c8)\n",
    "\n",
    "u9 = layers.Conv2DTranspose(num_filters, (2, 2), (2, 2), padding=\"same\")(c8)\n",
    "c9 = layers.Concatenate(axis=3)([c1, u9])\n",
    "c9 = layers.Conv2D(num_filters, (3, 3), padding=\"same\", activation=\"relu\", kernel_initializer=\"he_normal\")(c9)\n",
    "c9 = layers.Dropout(dropout_rate)(c9)\n",
    "c9 = layers.Conv2D(num_filters, (3, 3), padding=\"same\", activation=\"relu\", kernel_initializer=\"he_normal\")(c9)\n",
    "\n",
    "output = layers.Conv2D(num_classes, (1, 1), activation=\"softmax\")(c9)"
   ]
  },
  {
   "cell_type": "code",
   "execution_count": 6,
   "metadata": {},
   "outputs": [
    {
     "name": "stdout",
     "output_type": "stream",
     "text": [
      "Model: \"model\"\n",
      "__________________________________________________________________________________________________\n",
      " Layer (type)                   Output Shape         Param #     Connected to                     \n",
      "==================================================================================================\n",
      " input_1 (InputLayer)           [(None, 480, 640, 3  0           []                               \n",
      "                                )]                                                                \n",
      "                                                                                                  \n",
      " conv2d (Conv2D)                (None, 480, 640, 16  448         ['input_1[0][0]']                \n",
      "                                )                                                                 \n",
      "                                                                                                  \n",
      " dropout (Dropout)              (None, 480, 640, 16  0           ['conv2d[0][0]']                 \n",
      "                                )                                                                 \n",
      "                                                                                                  \n",
      " conv2d_1 (Conv2D)              (None, 480, 640, 16  2320        ['dropout[0][0]']                \n",
      "                                )                                                                 \n",
      "                                                                                                  \n",
      " max_pooling2d (MaxPooling2D)   (None, 240, 320, 16  0           ['conv2d_1[0][0]']               \n",
      "                                )                                                                 \n",
      "                                                                                                  \n",
      " conv2d_2 (Conv2D)              (None, 240, 320, 32  4640        ['max_pooling2d[0][0]']          \n",
      "                                )                                                                 \n",
      "                                                                                                  \n",
      " dropout_1 (Dropout)            (None, 240, 320, 32  0           ['conv2d_2[0][0]']               \n",
      "                                )                                                                 \n",
      "                                                                                                  \n",
      " conv2d_3 (Conv2D)              (None, 240, 320, 32  9248        ['dropout_1[0][0]']              \n",
      "                                )                                                                 \n",
      "                                                                                                  \n",
      " max_pooling2d_1 (MaxPooling2D)  (None, 120, 160, 32  0          ['conv2d_3[0][0]']               \n",
      "                                )                                                                 \n",
      "                                                                                                  \n",
      " conv2d_4 (Conv2D)              (None, 120, 160, 64  18496       ['max_pooling2d_1[0][0]']        \n",
      "                                )                                                                 \n",
      "                                                                                                  \n",
      " dropout_2 (Dropout)            (None, 120, 160, 64  0           ['conv2d_4[0][0]']               \n",
      "                                )                                                                 \n",
      "                                                                                                  \n",
      " conv2d_5 (Conv2D)              (None, 120, 160, 64  36928       ['dropout_2[0][0]']              \n",
      "                                )                                                                 \n",
      "                                                                                                  \n",
      " max_pooling2d_2 (MaxPooling2D)  (None, 60, 80, 64)  0           ['conv2d_5[0][0]']               \n",
      "                                                                                                  \n",
      " conv2d_6 (Conv2D)              (None, 60, 80, 128)  73856       ['max_pooling2d_2[0][0]']        \n",
      "                                                                                                  \n",
      " dropout_3 (Dropout)            (None, 60, 80, 128)  0           ['conv2d_6[0][0]']               \n",
      "                                                                                                  \n",
      " conv2d_7 (Conv2D)              (None, 60, 80, 128)  147584      ['dropout_3[0][0]']              \n",
      "                                                                                                  \n",
      " max_pooling2d_3 (MaxPooling2D)  (None, 30, 40, 128)  0          ['conv2d_7[0][0]']               \n",
      "                                                                                                  \n",
      " conv2d_8 (Conv2D)              (None, 30, 40, 256)  295168      ['max_pooling2d_3[0][0]']        \n",
      "                                                                                                  \n",
      " dropout_4 (Dropout)            (None, 30, 40, 256)  0           ['conv2d_8[0][0]']               \n",
      "                                                                                                  \n",
      " conv2d_9 (Conv2D)              (None, 30, 40, 256)  590080      ['dropout_4[0][0]']              \n",
      "                                                                                                  \n",
      " conv2d_transpose (Conv2DTransp  (None, 60, 80, 128)  131200     ['conv2d_9[0][0]']               \n",
      " ose)                                                                                             \n",
      "                                                                                                  \n",
      " concatenate (Concatenate)      (None, 60, 80, 256)  0           ['conv2d_7[0][0]',               \n",
      "                                                                  'conv2d_transpose[0][0]']       \n",
      "                                                                                                  \n",
      " conv2d_10 (Conv2D)             (None, 60, 80, 128)  295040      ['concatenate[0][0]']            \n",
      "                                                                                                  \n",
      " dropout_5 (Dropout)            (None, 60, 80, 128)  0           ['conv2d_10[0][0]']              \n",
      "                                                                                                  \n",
      " conv2d_11 (Conv2D)             (None, 60, 80, 128)  147584      ['dropout_5[0][0]']              \n",
      "                                                                                                  \n",
      " conv2d_transpose_1 (Conv2DTran  (None, 120, 160, 64  32832      ['conv2d_11[0][0]']              \n",
      " spose)                         )                                                                 \n",
      "                                                                                                  \n",
      " concatenate_1 (Concatenate)    (None, 120, 160, 12  0           ['conv2d_5[0][0]',               \n",
      "                                8)                                'conv2d_transpose_1[0][0]']     \n",
      "                                                                                                  \n",
      " conv2d_12 (Conv2D)             (None, 120, 160, 64  73792       ['concatenate_1[0][0]']          \n",
      "                                )                                                                 \n",
      "                                                                                                  \n",
      " dropout_6 (Dropout)            (None, 120, 160, 64  0           ['conv2d_12[0][0]']              \n",
      "                                )                                                                 \n",
      "                                                                                                  \n",
      " conv2d_13 (Conv2D)             (None, 120, 160, 64  36928       ['dropout_6[0][0]']              \n",
      "                                )                                                                 \n",
      "                                                                                                  \n",
      " conv2d_transpose_2 (Conv2DTran  (None, 240, 320, 32  8224       ['conv2d_13[0][0]']              \n",
      " spose)                         )                                                                 \n",
      "                                                                                                  \n",
      " concatenate_2 (Concatenate)    (None, 240, 320, 64  0           ['conv2d_3[0][0]',               \n",
      "                                )                                 'conv2d_transpose_2[0][0]']     \n",
      "                                                                                                  \n",
      " conv2d_14 (Conv2D)             (None, 240, 320, 32  18464       ['concatenate_2[0][0]']          \n",
      "                                )                                                                 \n",
      "                                                                                                  \n",
      " dropout_7 (Dropout)            (None, 240, 320, 32  0           ['conv2d_14[0][0]']              \n",
      "                                )                                                                 \n",
      "                                                                                                  \n",
      " conv2d_15 (Conv2D)             (None, 240, 320, 32  9248        ['dropout_7[0][0]']              \n",
      "                                )                                                                 \n",
      "                                                                                                  \n",
      " conv2d_transpose_3 (Conv2DTran  (None, 480, 640, 16  2064       ['conv2d_15[0][0]']              \n",
      " spose)                         )                                                                 \n",
      "                                                                                                  \n",
      " concatenate_3 (Concatenate)    (None, 480, 640, 32  0           ['conv2d_1[0][0]',               \n",
      "                                )                                 'conv2d_transpose_3[0][0]']     \n",
      "                                                                                                  \n",
      " conv2d_16 (Conv2D)             (None, 480, 640, 16  4624        ['concatenate_3[0][0]']          \n",
      "                                )                                                                 \n",
      "                                                                                                  \n",
      " dropout_8 (Dropout)            (None, 480, 640, 16  0           ['conv2d_16[0][0]']              \n",
      "                                )                                                                 \n",
      "                                                                                                  \n",
      " conv2d_17 (Conv2D)             (None, 480, 640, 16  2320        ['dropout_8[0][0]']              \n",
      "                                )                                                                 \n",
      "                                                                                                  \n",
      " conv2d_18 (Conv2D)             (None, 480, 640, 3)  51          ['conv2d_17[0][0]']              \n",
      "                                                                                                  \n",
      "==================================================================================================\n",
      "Total params: 1,941,139\n",
      "Trainable params: 1,941,139\n",
      "Non-trainable params: 0\n",
      "__________________________________________________________________________________________________\n"
     ]
    }
   ],
   "source": [
    "unet_model = keras.Model(inputs=[input], outputs=[output])\n",
    "\n",
    "optimizer = keras.optimizers.Adam(learning_rate=1e-5)\n",
    "loss_function = keras.losses.CategoricalCrossentropy()\n",
    "\n",
    "unet_model.compile(optimizer=optimizer, loss=loss_function, metrics=[\"accuracy\"])\n",
    "unet_model.summary()"
   ]
  },
  {
   "cell_type": "code",
   "execution_count": 7,
   "metadata": {},
   "outputs": [],
   "source": [
    "raw_data_path = \"../data/raw_data/\"\n",
    "train_path = \"../data/train/\"\n",
    "test_path = \"../data/test/\"\n",
    "\n",
    "label_names = [\"korov\", \"maticnjak\"]\n",
    "member_names = [\"ivan\", \"mladen\", \"dino\", \"milan\", \"bojan\"]\n",
    "\n",
    "test_ratio = 0.1\n",
    "\n",
    "process_raw_data(raw_data_path, train_path, test_path, member_names, label_names, test_ratio)"
   ]
  },
  {
   "cell_type": "code",
   "execution_count": 8,
   "metadata": {},
   "outputs": [
    {
     "name": "stdout",
     "output_type": "stream",
     "text": [
      "Found 8 images belonging to 1 classes.\n",
      "Found 8 images belonging to 1 classes.\n",
      "Found 1 images belonging to 1 classes.\n",
      "Found 1 images belonging to 1 classes.\n"
     ]
    }
   ],
   "source": [
    "data_gen_args = dict(rotation_range=15,\n",
    "                     width_shift_range=0.2,\n",
    "                     height_shift_range=0.2,\n",
    "                     zoom_range=0.2,\n",
    "                     fill_mode=\"reflect\",\n",
    "                     horizontal_flip=True,\n",
    "                     vertical_flip=True,\n",
    "                     rescale=1./255,\n",
    "                     validation_split=0.2)\n",
    "\n",
    "image_datagen = ImageDataGenerator(**data_gen_args)\n",
    "mask_datagen = ImageDataGenerator(**data_gen_args)\n",
    "\n",
    "seed = 1\n",
    "\n",
    "train_image_generator = image_datagen.flow_from_directory(\n",
    "    train_path + \"input/\",\n",
    "    target_size=(IMG_HEIGHT, IMG_WIDTH),\n",
    "    class_mode=None,\n",
    "    batch_size=4,\n",
    "    seed=seed,\n",
    "    subset=\"training\"\n",
    ")\n",
    "\n",
    "train_label_generator = mask_datagen.flow_from_directory(\n",
    "    train_path + \"output/\",\n",
    "    target_size=(IMG_HEIGHT, IMG_WIDTH),\n",
    "    class_mode=None,\n",
    "    batch_size=4,\n",
    "    seed=seed,\n",
    "    subset=\"training\"\n",
    ")\n",
    "\n",
    "train_generator = zip(train_image_generator, train_label_generator)\n",
    "\n",
    "seed = 100\n",
    "\n",
    "valid_image_generator = image_datagen.flow_from_directory(\n",
    "    train_path + \"input/\",\n",
    "    target_size=(IMG_HEIGHT, IMG_WIDTH),\n",
    "    class_mode=None,\n",
    "    batch_size=4,\n",
    "    seed=seed,\n",
    "    subset=\"validation\"\n",
    ")\n",
    "\n",
    "valid_label_generator = mask_datagen.flow_from_directory(\n",
    "    train_path + \"output/\",\n",
    "    target_size=(IMG_HEIGHT, IMG_WIDTH),\n",
    "    class_mode=None,\n",
    "    batch_size=4,\n",
    "    seed=seed,\n",
    "    subset=\"validation\"\n",
    ")\n",
    "\n",
    "validation_generator = zip(train_image_generator, train_label_generator)"
   ]
  },
  {
   "cell_type": "code",
   "execution_count": 9,
   "metadata": {},
   "outputs": [],
   "source": [
    "now = datetime.now()\n",
    "log_dir = \"tf_logs/\" + now.strftime(\"%Y%m%d-%H%M%S\") + \"/\"\n",
    "\n",
    "callbacks = [\n",
    "    keras.callbacks.EarlyStopping(monitor=\"val_loss\", patience=10),\n",
    "    keras.callbacks.ModelCheckpoint(filepath=\"../saved_models/unet_model.h5\", save_best_only=True),\n",
    "    keras.callbacks.TensorBoard(log_dir=log_dir)\n",
    "]"
   ]
  },
  {
   "cell_type": "code",
   "execution_count": 10,
   "metadata": {},
   "outputs": [
    {
     "name": "stdout",
     "output_type": "stream",
     "text": [
      "Epoch 1/10\n",
      "100/100 [==============================] - 133s 1s/step - loss: 1.0451 - accuracy: 0.4225 - val_loss: 1.0057 - val_accuracy: 0.4966\n",
      "Epoch 2/10\n",
      "100/100 [==============================] - 111s 1s/step - loss: 0.8615 - accuracy: 0.5909 - val_loss: 0.9020 - val_accuracy: 0.6566\n",
      "Epoch 3/10\n",
      "100/100 [==============================] - 111s 1s/step - loss: 0.6097 - accuracy: 0.7946 - val_loss: 1.3231 - val_accuracy: 0.3957\n",
      "Epoch 4/10\n",
      "100/100 [==============================] - 111s 1s/step - loss: 0.4320 - accuracy: 0.8575 - val_loss: 1.1373 - val_accuracy: 0.5862\n",
      "Epoch 5/10\n",
      "100/100 [==============================] - 111s 1s/step - loss: 0.3658 - accuracy: 0.8777 - val_loss: 1.5823 - val_accuracy: 0.4635\n",
      "Epoch 6/10\n",
      "100/100 [==============================] - 111s 1s/step - loss: 0.3406 - accuracy: 0.8842 - val_loss: 1.4896 - val_accuracy: 0.5018\n",
      "Epoch 7/10\n",
      "100/100 [==============================] - 111s 1s/step - loss: 0.3145 - accuracy: 0.8926 - val_loss: 1.2121 - val_accuracy: 0.5716\n",
      "Epoch 8/10\n",
      "100/100 [==============================] - 111s 1s/step - loss: 0.3108 - accuracy: 0.8887 - val_loss: 1.4614 - val_accuracy: 0.5020\n",
      "Epoch 9/10\n",
      "100/100 [==============================] - 111s 1s/step - loss: 0.2931 - accuracy: 0.8946 - val_loss: 1.4278 - val_accuracy: 0.5070\n",
      "Epoch 10/10\n",
      "100/100 [==============================] - 111s 1s/step - loss: 0.2818 - accuracy: 0.8966 - val_loss: 1.2310 - val_accuracy: 0.5464\n"
     ]
    },
    {
     "data": {
      "text/plain": [
       "<keras.callbacks.History at 0x1fc8031e850>"
      ]
     },
     "execution_count": 10,
     "metadata": {},
     "output_type": "execute_result"
    }
   ],
   "source": [
    "unet_model.fit(\n",
    "    train_generator,\n",
    "    epochs=10,\n",
    "    steps_per_epoch=100, \n",
    "    validation_data=validation_generator,\n",
    "    validation_steps=2,\n",
    "    callbacks=callbacks\n",
    ")"
   ]
  },
  {
   "cell_type": "code",
   "execution_count": 11,
   "metadata": {},
   "outputs": [
    {
     "name": "stdout",
     "output_type": "stream",
     "text": [
      "Found 1 images belonging to 1 classes.\n",
      "Found 1 images belonging to 1 classes.\n"
     ]
    }
   ],
   "source": [
    "test_image_datagen = ImageDataGenerator(rescale=1./255)\n",
    "test_mask_datagen = ImageDataGenerator(rescale=1./255)\n",
    "\n",
    "test_image_generator = test_image_datagen.flow_from_directory(\n",
    "    test_path + \"input/\",\n",
    "    target_size=(IMG_HEIGHT, IMG_WIDTH),\n",
    "    class_mode=None,\n",
    "    batch_size=1\n",
    ")\n",
    "\n",
    "test_mask_generator = test_mask_datagen.flow_from_directory(\n",
    "    test_path + \"output/\",\n",
    "    target_size=(IMG_HEIGHT, IMG_WIDTH),\n",
    "    class_mode=None,\n",
    "    batch_size=1\n",
    ")\n",
    "\n",
    "test_generator = zip(test_image_generator, test_mask_generator)"
   ]
  },
  {
   "cell_type": "code",
   "execution_count": 12,
   "metadata": {},
   "outputs": [
    {
     "name": "stdout",
     "output_type": "stream",
     "text": [
      "1/1 [==============================] - 6s 6s/step - loss: 0.9163 - accuracy: 0.7132\n"
     ]
    },
    {
     "data": {
      "text/plain": [
       "[0.9162945747375488, 0.7132486701011658]"
      ]
     },
     "execution_count": 12,
     "metadata": {},
     "output_type": "execute_result"
    }
   ],
   "source": [
    "unet_model.evaluate(test_generator, steps=1)"
   ]
  },
  {
   "cell_type": "code",
   "execution_count": 13,
   "metadata": {},
   "outputs": [
    {
     "name": "stdout",
     "output_type": "stream",
     "text": [
      "1/1 [==============================] - 0s 359ms/step\n"
     ]
    }
   ],
   "source": [
    "img, mask_true = next(validation_generator)\n",
    "\n",
    "pred = unet_model.predict(img)\n",
    "mask = tf.one_hot(tf.argmax(pred, axis=3), depth=num_classes)\n",
    "\n",
    "img_pred = draw_segmentation_mask(np.uint8(img[0]*255), mask[0], 0.3)\n",
    "\n",
    "cv.imshow(\"img\", cv.cvtColor(img_pred, cv.COLOR_RGB2BGR))\n",
    "cv.waitKey()\n",
    "cv.destroyAllWindows()\n",
    "\n",
    "img_true = draw_segmentation_mask(np.uint8(img[0]*255), np.round(mask_true[0]), 0.3)\n",
    "cv.imshow(\"img\", cv.cvtColor(img_true, cv.COLOR_RGB2BGR))\n",
    "cv.waitKey()\n",
    "cv.destroyAllWindows()"
   ]
  },
  {
   "cell_type": "code",
   "execution_count": 14,
   "metadata": {},
   "outputs": [
    {
     "data": {
      "text/plain": [
       "<matplotlib.image.AxesImage at 0x1fd8850d580>"
      ]
     },
     "execution_count": 14,
     "metadata": {},
     "output_type": "execute_result"
    },
    {
     "data": {
      "image/png": "[encoded data removed]",
      "text/plain": [
       "<Figure size 640x480 with 3 Axes>"
      ]
     },
     "metadata": {},
     "output_type": "display_data"
    }
   ],
   "source": [
    "import matplotlib.pyplot as plt\n",
    "\n",
    "fig, axes = plt.subplots(1, 3)\n",
    "\n",
    "axes[0].imshow(mask[0, :, :, 0])\n",
    "axes[1].imshow(mask[0, :, :, 1])\n",
    "axes[2].imshow(mask[0, :, :, 2])"
   ]
  },
  {
   "cell_type": "code",
   "execution_count": 15,
   "metadata": {},
   "outputs": [],
   "source": [
    "# cuda.select_device(0)\n",
    "# cuda.close()"
   ]
  }
 ],
 "metadata": {
  "kernelspec": {
   "display_name": "Python 3.9.0 ('unet_venv')",
   "language": "python",
   "name": "python3"
  },
  "language_info": {
   "codemirror_mode": {
    "name": "ipython",
    "version": 3
   },
   "file_extension": ".py",
   "mimetype": "text/x-python",
   "name": "python",
   "nbconvert_exporter": "python",
   "pygments_lexer": "ipython3",
   "version": "3.9.15"
  },
  "orig_nbformat": 4,
  "vscode": {
   "interpreter": {
    "hash": "cd18b0fa9e357fb31d842e2dacd7a70ddef24c29210fc762a7fd8ae609df9ee8"
   }
  }
 },
 "nbformat": 4,
 "nbformat_minor": 2
}
